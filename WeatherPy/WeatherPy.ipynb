{
 "cells": [
  {
   "cell_type": "markdown",
   "metadata": {},
   "source": [
    "# WeatherPy\n",
    "----\n",
    "\n",
    "#### Note\n",
    "* Instructions have been included for each segment. You do not have to follow them exactly, but they are included to help you think through the steps."
   ]
  },
  {
   "cell_type": "code",
   "execution_count": 1,
   "metadata": {
    "scrolled": true
   },
   "outputs": [],
   "source": [
    "# Dependencies and Setup\n",
    "import matplotlib.pyplot as plt\n",
    "import pandas as pd\n",
    "import numpy as np\n",
    "import requests\n",
    "import time\n",
    "from scipy.stats import linregress\n",
    "from pprint import pprint\n",
    "\n",
    "# Import API key\n",
    "from api_keys import weather_api_key\n",
    "\n",
    "# Incorporated citipy to determine city based on latitude and longitude\n",
    "from citipy import citipy\n",
    "\n",
    "# Output File (CSV)\n",
    "output_data_file = \"../output_data/city_weather_data.csv\"\n",
    "\n",
    "# Range of latitudes and longitudes\n",
    "lat_range = (-90, 90)\n",
    "lng_range = (-180, 180)\n"
   ]
  },
  {
   "cell_type": "markdown",
   "metadata": {},
   "source": [
    "## Generate Cities List"
   ]
  },
  {
   "cell_type": "code",
   "execution_count": 2,
   "metadata": {},
   "outputs": [
    {
     "data": {
      "text/plain": [
       "591"
      ]
     },
     "execution_count": 2,
     "metadata": {},
     "output_type": "execute_result"
    }
   ],
   "source": [
    "# List for holding lat_lngs and cities\n",
    "lat_lngs = []\n",
    "cities = []\n",
    "\n",
    "# Create a set of random lat and lng combinations\n",
    "lats = np.random.uniform(lat_range[0], lat_range[1], size=1500)\n",
    "lngs = np.random.uniform(lng_range[0], lng_range[1], size=1500)\n",
    "lat_lngs = zip(lats, lngs)\n",
    "\n",
    "# Identify nearest city for each lat, lng combination\n",
    "for lat_lng in lat_lngs:\n",
    "    city = citipy.nearest_city(lat_lng[0], lat_lng[1]).city_name\n",
    "    \n",
    "    # If the city is unique, then add it to a our cities list\n",
    "    if city not in cities:\n",
    "        cities.append(city)\n",
    "\n",
    "# Print the city count to confirm sufficient count\n",
    "len(cities)"
   ]
  },
  {
   "cell_type": "code",
   "execution_count": 3,
   "metadata": {},
   "outputs": [
    {
     "name": "stdout",
     "output_type": "stream",
     "text": [
      "'Processing city no: 0 Itoman'\n",
      "'Processing city no: 1 Boa Vista'\n",
      "'Processing city no: 2 Hermanus'\n",
      "'Processing city no: 3 Albany'\n",
      "'Processing city no: 4 Busselton'\n",
      "'Processing city no: 5 Altamira'\n",
      "'Processing city no: 6 Nome'\n",
      "'Processing city no: 7 Klaksvík'\n",
      "'Processing city no: 8 Katsuura'\n",
      "'Processing city no: 9 Hithadhoo'\n",
      "'Processing city no: 10 Airai'\n",
      "'Processing city no: 11 Barrow'\n",
      "'Processing city no: 12 Ushuaia'\n",
      "'Processing city no: 13 Faanui'\n",
      "'Processing city no: 14 Saint George'\n",
      "'Processing city no: 15 Jamestown'\n",
      "'Processing city no: 16 Mar del Plata'\n",
      "'Processing city no: 17 Rikitea'\n",
      "'Processing city no: 18 Lüderitz'\n",
      "'Processing city no: 19 Philadelphia'\n",
      "'Processing city no: 20 Avarua'\n",
      "'Processing city no: 21 Qurayyat'\n",
      "'Processing city no: 22 Cape Town'\n",
      "'Processing city no: 23 Neuquén'\n",
      "'Processing city no: 24 Port Alfred'\n",
      "'Processing city no: 25 Beisfjord'\n",
      "'Processing city no: 26 Sitka'\n",
      "'Processing city no: 27 Mossamedes'\n",
      "'Processing city no: 28 Takoradze'\n",
      "'Processing city no: 29 Panshi'\n",
      "'Processing city no: 30 Broome'\n",
      "'Processing city no: 31 Leningradskiy'\n",
      "'Processing city no: 32 Yellowknife'\n",
      "'Processing city no: 33 San Ramon'\n",
      "'Processing city no: 34 Kapaa'\n",
      "'Processing city no: 35 Santa Fe'\n",
      "'Processing city no: 36 Arraial do Cabo'\n",
      "'Processing city no: 37 Punta Arenas'\n",
      "City Not Found!Skipping......\n",
      "'Processing city no: 38 Palmer'\n",
      "'Processing city no: 39 Ouadda'\n",
      "'Processing city no: 40 Talara'\n",
      "'Processing city no: 41 Namatanai'\n",
      "'Processing city no: 42 Tuatapere'\n",
      "'Processing city no: 43 San Jose'\n",
      "'Processing city no: 44 Rawlins'\n",
      "'Processing city no: 45 Chimoré'\n",
      "'Processing city no: 46 Bahía Blanca'\n",
      "'Processing city no: 47 Norman Wells'\n",
      "'Processing city no: 48 Sungai Penuh'\n",
      "'Processing city no: 49 Biak'\n",
      "'Processing city no: 50 Morgan City'\n",
      "'Processing city no: 51 Kathu'\n",
      "'Processing city no: 52 Ishigaki'\n",
      "'Processing city no: 53 Hambantota'\n",
      "'Processing city no: 54 Kiryat Gat'\n",
      "'Processing city no: 55 Cidreira'\n",
      "'Processing city no: 56 Dikson'\n",
      "'Processing city no: 57 Souillac'\n",
      "'Processing city no: 58 Zhigansk'\n",
      "'Processing city no: 59 Provideniya'\n",
      "'Processing city no: 60 Hilo'\n",
      "'Processing city no: 61 Richards Bay'\n",
      "City Not Found!Skipping......\n",
      "City Not Found!Skipping......\n",
      "'Processing city no: 62 New Norfolk'\n",
      "'Processing city no: 63 Bambous Virieux'\n",
      "'Processing city no: 64 Longyearbyen'\n",
      "'Processing city no: 65 George Town'\n",
      "'Processing city no: 66 Nieves'\n",
      "'Processing city no: 67 Vaini'\n",
      "'Processing city no: 68 La Ronge'\n",
      "'Processing city no: 69 Adelanto'\n",
      "'Processing city no: 70 Qasigiannguit'\n",
      "'Processing city no: 71 Manono'\n",
      "'Processing city no: 72 Bluff'\n",
      "'Processing city no: 73 Sūsangerd'\n",
      "'Processing city no: 74 Asău'\n",
      "'Processing city no: 75 São Filipe'\n",
      "City Not Found!Skipping......\n",
      "'Processing city no: 76 Hasaki'\n",
      "'Processing city no: 77 Saint Anthony'\n",
      "'Processing city no: 78 Vadsø'\n",
      "'Processing city no: 79 Mafeteng'\n",
      "'Processing city no: 80 Porto-Novo'\n",
      "'Processing city no: 81 Chapais'\n",
      "'Processing city no: 82 Cururupu'\n",
      "\"Processing city no: 83 Ust'-Omchug\"\n",
      "'Processing city no: 84 Boguchany'\n",
      "'Processing city no: 85 Ngunguru'\n",
      "'Processing city no: 86 Waipawa'\n",
      "'Processing city no: 87 Mauá'\n",
      "'Processing city no: 88 Faya'\n",
      "'Processing city no: 89 Walvis Bay'\n",
      "'Processing city no: 90 Portland'\n",
      "'Processing city no: 91 Thompson'\n",
      "'Processing city no: 92 Mataura'\n",
      "'Processing city no: 93 Lebu'\n",
      "City Not Found!Skipping......\n",
      "'Processing city no: 94 Puerto Ayora'\n",
      "'Processing city no: 95 Honiara'\n",
      "'Processing city no: 96 Port Hedland'\n",
      "'Processing city no: 97 Kahului'\n",
      "'Processing city no: 98 Shimoda'\n",
      "'Processing city no: 99 Makakilo City'\n",
      "'Processing city no: 100 Lavrentiya'\n",
      "'Processing city no: 101 Ambulu'\n",
      "\"Processing city no: 102 Severo-Kuril'sk\"\n",
      "'Processing city no: 103 Aklavik'\n",
      "'Processing city no: 104 Kharan'\n",
      "'Processing city no: 105 Gamba'\n",
      "'Processing city no: 106 Dabakala'\n",
      "'Processing city no: 107 Hobe Sound'\n",
      "'Processing city no: 108 Pacific Grove'\n",
      "'Processing city no: 109 Cherskiy'\n",
      "'Processing city no: 110 Verkhnyaya Inta'\n",
      "City Not Found!Skipping......\n",
      "'Processing city no: 111 Pakokku'\n",
      "'Processing city no: 112 Turrialba'\n",
      "'Processing city no: 113 Jieshi'\n",
      "'Processing city no: 114 Saint-Philippe'\n",
      "'Processing city no: 115 Denpasar'\n",
      "'Processing city no: 116 Kavieng'\n",
      "'Processing city no: 117 La Asuncion'\n",
      "'Processing city no: 118 Itarema'\n",
      "'Processing city no: 119 Tomatlán'\n",
      "'Processing city no: 120 Lorengau'\n",
      "City Not Found!Skipping......\n",
      "City Not Found!Skipping......\n",
      "'Processing city no: 121 Ilulissat'\n",
      "'Processing city no: 122 St. Marys'\n",
      "'Processing city no: 123 Atuona'\n",
      "'Processing city no: 124 Butaritari'\n",
      "'Processing city no: 125 Huarmey'\n",
      "'Processing city no: 126 Laredo'\n",
      "'Processing city no: 127 Castro'\n",
      "'Processing city no: 128 Upernavik'\n",
      "'Processing city no: 129 Isabela'\n",
      "City Not Found!Skipping......\n",
      "'Processing city no: 130 Thibodaux'\n",
      "'Processing city no: 131 Srednekolymsk'\n",
      "'Processing city no: 132 Mumbwa'\n",
      "'Processing city no: 133 Tra Vinh'\n",
      "'Processing city no: 134 Havre-St-Pierre'\n",
      "'Processing city no: 135 Nishihara'\n",
      "'Processing city no: 136 Mount Gambier'\n",
      "'Processing city no: 137 Anadyr'\n",
      "'Processing city no: 138 Tefé'\n",
      "'Processing city no: 139 East London'\n",
      "'Processing city no: 140 Hamilton'\n",
      "'Processing city no: 141 San Patricio'\n",
      "'Processing city no: 142 Bethel'\n",
      "'Processing city no: 143 Kudahuvadhoo'\n",
      "'Processing city no: 144 Agirish'\n",
      "'Processing city no: 145 Tabursuq'\n",
      "'Processing city no: 146 La Santisima Trinidad'\n",
      "'Processing city no: 147 Port Elizabeth'\n",
      "'Processing city no: 148 Namtsy'\n",
      "'Processing city no: 149 Coahuayana Viejo'\n",
      "'Processing city no: 150 Pevek'\n",
      "'Processing city no: 151 Ribeira Grande'\n",
      "'Processing city no: 152 Vardø'\n",
      "'Processing city no: 153 Pyn U Lwin'\n",
      "'Processing city no: 154 Qaanaaq'\n",
      "'Processing city no: 155 Machalí'\n",
      "'Processing city no: 156 Torbay'\n",
      "'Processing city no: 157 Sambava'\n",
      "'Processing city no: 158 Ucluelet'\n",
      "'Processing city no: 159 Labuan'\n",
      "'Processing city no: 160 Vredendal'\n",
      "'Processing city no: 161 Shelburne'\n",
      "'Processing city no: 162 Sur'\n",
      "'Processing city no: 163 Tezu'\n",
      "City Not Found!Skipping......\n",
      "'Processing city no: 164 Saint-Pierre'\n",
      "'Processing city no: 165 Hay River'\n",
      "'Processing city no: 166 Chokurdakh'\n",
      "'Processing city no: 167 Flin Flon'\n",
      "'Processing city no: 168 Kaitangata'\n",
      "'Processing city no: 169 Thinadhoo'\n",
      "'Processing city no: 170 Salalah'\n",
      "City Not Found!Skipping......\n",
      "'Processing city no: 171 Eenhana'\n",
      "'Processing city no: 172 Mahébourg'\n",
      "'Processing city no: 173 Paka'\n",
      "City Not Found!Skipping......\n",
      "'Processing city no: 174 Caucaia'\n",
      "'Processing city no: 175 Tazovsky'\n",
      "'Processing city no: 176 Río Gallegos'\n",
      "'Processing city no: 177 Zykovo'\n",
      "City Not Found!Skipping......\n",
      "'Processing city no: 178 Dunedin'\n",
      "'Processing city no: 179 Tairua'\n",
      "'Processing city no: 180 Meulaboh'\n",
      "'Processing city no: 181 Talagang'\n",
      "'Processing city no: 182 Cockburn Town'\n",
      "City Not Found!Skipping......\n",
      "'Processing city no: 183 Novikovo'\n",
      "'Processing city no: 184 Fairbanks'\n",
      "'Processing city no: 185 Liwale'\n",
      "'Processing city no: 186 Medicine Hat'\n",
      "'Processing city no: 187 Belaya Gora'\n",
      "City Not Found!Skipping......\n",
      "'Processing city no: 188 Narsaq'\n",
      "'Processing city no: 189 Codrington'\n",
      "'Processing city no: 190 Mitú'\n",
      "'Processing city no: 191 Kieta'\n",
      "'Processing city no: 192 Bariloche'\n",
      "'Processing city no: 193 Cap Malheureux'\n",
      "'Processing city no: 194 Camabatela'\n",
      "'Processing city no: 195 Khatanga'\n",
      "'Processing city no: 196 Chui'\n",
      "'Processing city no: 197 Saskylakh'\n",
      "'Processing city no: 198 Rayevskiy'\n",
      "'Processing city no: 199 Newport'\n",
      "'Processing city no: 200 Husavik'\n",
      "'Processing city no: 201 Ancud'\n",
      "'Processing city no: 202 Ayan'\n",
      "\"Processing city no: 203 Krasnosel'kup\"\n",
      "'Processing city no: 204 Katunino'\n",
      "City Not Found!Skipping......\n",
      "City Not Found!Skipping......\n",
      "'Processing city no: 205 Bredasdorp'\n",
      "'Processing city no: 206 Araouane'\n",
      "'Processing city no: 207 Upington'\n",
      "'Processing city no: 208 Hobart'\n",
      "'Processing city no: 209 Bandarbeyla'\n",
      "'Processing city no: 210 Constitución'\n",
      "'Processing city no: 211 Tuktoyaktuk'\n",
      "'Processing city no: 212 Kuito'\n",
      "'Processing city no: 213 Nemuro'\n",
      "'Processing city no: 214 Shingū'\n",
      "'Processing city no: 215 Palanga'\n",
      "'Processing city no: 216 Ponta do Sol'\n",
      "'Processing city no: 217 Fortuna'\n",
      "'Processing city no: 218 Solnechnyy'\n",
      "'Processing city no: 219 Carnarvon'\n"
     ]
    },
    {
     "name": "stdout",
     "output_type": "stream",
     "text": [
      "'Processing city no: 220 Lae'\n",
      "'Processing city no: 221 San Lorenzo'\n",
      "City Not Found!Skipping......\n",
      "'Processing city no: 222 Kumul'\n",
      "'Processing city no: 223 Korla'\n",
      "'Processing city no: 224 Pangnirtung'\n",
      "'Processing city no: 225 Alta Floresta'\n",
      "'Processing city no: 226 Dhidhdhoo'\n",
      "'Processing city no: 227 Polessk'\n",
      "'Processing city no: 228 Uglovoye'\n",
      "'Processing city no: 229 Shahrud'\n",
      "'Processing city no: 230 Sandwick'\n",
      "'Processing city no: 231 Tiksi'\n",
      "'Processing city no: 232 Tautira'\n",
      "'Processing city no: 233 Prabumulih'\n",
      "'Processing city no: 234 Étaples'\n",
      "'Processing city no: 235 Mahina'\n",
      "City Not Found!Skipping......\n",
      "'Processing city no: 236 Tabou'\n",
      "'Processing city no: 237 Xingyi'\n",
      "'Processing city no: 238 Deep River'\n",
      "'Processing city no: 239 Mehamn'\n",
      "'Processing city no: 240 Victor Harbor'\n",
      "'Processing city no: 241 College'\n",
      "'Processing city no: 242 Vao'\n",
      "'Processing city no: 243 Kandi'\n",
      "'Processing city no: 244 Port Moresby'\n",
      "'Processing city no: 245 Zhangye'\n",
      "'Processing city no: 246 Develi'\n",
      "'Processing city no: 247 Salinópolis'\n",
      "'Processing city no: 248 Alofi'\n",
      "'Processing city no: 249 Shawinigan'\n",
      "'Processing city no: 250 Canutama'\n",
      "'Processing city no: 251 Kruisfontein'\n",
      "'Processing city no: 252 Saint-Joseph'\n",
      "'Processing city no: 253 Katherine'\n",
      "'Processing city no: 254 Scarborough'\n",
      "'Processing city no: 255 Cuyo'\n",
      "'Processing city no: 256 Upata'\n",
      "'Processing city no: 257 Labuhan'\n",
      "'Processing city no: 258 Beloha'\n",
      "'Processing city no: 259 Casper'\n",
      "'Processing city no: 260 Imbituba'\n",
      "'Processing city no: 261 Yaan'\n",
      "\"Processing city no: 262 Valle d'Aosta\"\n",
      "'Processing city no: 263 Rockport'\n",
      "'Processing city no: 264 Nyurba'\n",
      "'Processing city no: 265 Nacala'\n",
      "'Processing city no: 266 Port-Cartier'\n",
      "'Processing city no: 267 Nantucket'\n",
      "'Processing city no: 268 Ust-Kuyga'\n",
      "'Processing city no: 269 Saint Paul Harbor'\n",
      "'Processing city no: 270 Magdagachi'\n",
      "'Processing city no: 271 Ngorongoro'\n",
      "'Processing city no: 272 Porteirinha'\n",
      "'Processing city no: 273 Mogzon'\n",
      "'Processing city no: 274 Farmington'\n",
      "City Not Found!Skipping......\n",
      "'Processing city no: 275 Jiaojiang'\n",
      "'Processing city no: 276 Nanzhang'\n",
      "City Not Found!Skipping......\n",
      "'Processing city no: 277 Sobolevo'\n",
      "'Processing city no: 278 Gwadar'\n",
      "'Processing city no: 279 Eydhafushi'\n",
      "'Processing city no: 280 Ostrowiec Świętokrzyski'\n",
      "'Processing city no: 281 Cairns'\n",
      "'Processing city no: 282 Praia da Vitória'\n",
      "'Processing city no: 283 Tasiilaq'\n",
      "'Processing city no: 284 Xinmin'\n",
      "'Processing city no: 285 Talnakh'\n",
      "'Processing city no: 286 Dudinka'\n",
      "'Processing city no: 287 Sumbe'\n",
      "'Processing city no: 288 Kununurra'\n",
      "'Processing city no: 289 Winslow'\n",
      "'Processing city no: 290 San Quintín'\n",
      "City Not Found!Skipping......\n",
      "City Not Found!Skipping......\n",
      "'Processing city no: 291 Hong Kong'\n",
      "'Processing city no: 292 Trairi'\n",
      "'Processing city no: 293 Saldanha'\n",
      "'Processing city no: 294 Nikolskoye'\n",
      "'Processing city no: 295 Labney'\n",
      "'Processing city no: 296 Lata'\n",
      "'Processing city no: 297 Hutchinson'\n",
      "'Processing city no: 298 Khairāgarh'\n",
      "'Processing city no: 299 Nuuk'\n",
      "'Processing city no: 300 Kupang'\n",
      "\"Processing city no: 301 Yashkul'\"\n",
      "'Processing city no: 302 Tallahassee'\n",
      "'Processing city no: 303 Dolores'\n",
      "'Processing city no: 304 Lapua'\n",
      "'Processing city no: 305 Garoowe'\n",
      "'Processing city no: 306 Lompoc'\n",
      "'Processing city no: 307 Vytegra'\n",
      "'Processing city no: 308 Beroroha'\n",
      "'Processing city no: 309 Mongo'\n",
      "'Processing city no: 310 San Cristobal'\n",
      "'Processing city no: 311 Sibiti'\n",
      "City Not Found!Skipping......\n",
      "'Processing city no: 312 Palekastro'\n",
      "'Processing city no: 313 Merauke'\n",
      "'Processing city no: 314 Comodoro Rivadavia'\n",
      "'Processing city no: 315 Lluta'\n",
      "'Processing city no: 316 Yar-Sale'\n",
      "'Processing city no: 317 Atherton'\n",
      "'Processing city no: 318 Rio Grande'\n",
      "'Processing city no: 319 Puerto Rondón'\n",
      "'Processing city no: 320 Del Rio'\n",
      "'Processing city no: 321 Aksarka'\n",
      "'Processing city no: 322 Arkhangelsk'\n",
      "'Processing city no: 323 Belomorsk'\n",
      "'Processing city no: 324 Chernyshkovskiy'\n",
      "'Processing city no: 325 San Pedro de Ycuamandiyú'\n",
      "'Processing city no: 326 Makat'\n",
      "'Processing city no: 327 Nanortalik'\n",
      "'Processing city no: 328 Tommot'\n",
      "City Not Found!Skipping......\n",
      "'Processing city no: 329 Caculé'\n",
      "\"Processing city no: 330 Sol'vychegodsk\"\n",
      "'Processing city no: 331 Kushmurun'\n",
      "'Processing city no: 332 Salinas'\n",
      "City Not Found!Skipping......\n",
      "'Processing city no: 333 Mackenzie'\n",
      "'Processing city no: 334 Aksu'\n",
      "City Not Found!Skipping......\n",
      "'Processing city no: 335 Adrar'\n",
      "'Processing city no: 336 Zapolyarnyy'\n",
      "'Processing city no: 337 Leesburg'\n",
      "'Processing city no: 338 Magaria'\n",
      "'Processing city no: 339 Ketchikan'\n",
      "'Processing city no: 340 Arlit'\n",
      "'Processing city no: 341 Bengkulu'\n",
      "'Processing city no: 342 Coyhaique'\n",
      "'Processing city no: 343 Tura'\n",
      "'Processing city no: 344 Olafsvik'\n",
      "'Processing city no: 345 Rawson'\n",
      "'Processing city no: 346 Touros'\n",
      "'Processing city no: 347 Esperance'\n",
      "'Processing city no: 348 Derzhavīnsk'\n",
      "City Not Found!Skipping......\n",
      "'Processing city no: 349 Dawson'\n",
      "'Processing city no: 350 Saint-Augustin'\n",
      "'Processing city no: 351 Kampong Thom'\n",
      "'Processing city no: 352 Okha'\n",
      "'Processing city no: 353 Domoni'\n",
      "'Processing city no: 354 Vila Velha'\n",
      "'Processing city no: 355 Le Vauclin'\n",
      "'Processing city no: 356 Khovd'\n",
      "'Processing city no: 357 Kulhudhuffushi'\n",
      "'Processing city no: 358 Camacha'\n",
      "'Processing city no: 359 Kardymovo'\n",
      "'Processing city no: 360 Olinda'\n",
      "'Processing city no: 361 Laas'\n",
      "'Processing city no: 362 Meridian'\n",
      "'Processing city no: 363 Vila do Maio'\n",
      "'Processing city no: 364 Chengde'\n",
      "'Processing city no: 365 Davila'\n",
      "'Processing city no: 366 Semīrom'\n",
      "'Processing city no: 367 Rāwah'\n",
      "'Processing city no: 368 Patrída'\n",
      "'Processing city no: 369 Kuli'\n",
      "'Processing city no: 370 Mayo'\n",
      "'Processing city no: 371 Pangkalanbuun'\n",
      "'Processing city no: 372 Wajima'\n",
      "'Processing city no: 373 Whitehorse'\n",
      "'Processing city no: 374 Pirgos'\n",
      "'Processing city no: 375 Tucumcari'\n",
      "'Processing city no: 376 Samaná'\n",
      "'Processing city no: 377 Oxbow'\n",
      "'Processing city no: 378 Borogontsy'\n",
      "City Not Found!Skipping......\n",
      "'Processing city no: 379 Guerrero Negro'\n",
      "'Processing city no: 380 North Bend'\n",
      "'Processing city no: 381 Pisco'\n",
      "'Processing city no: 382 Taltal'\n",
      "'Processing city no: 383 Al Bardīyah'\n",
      "'Processing city no: 384 Ostrovnoy'\n",
      "'Processing city no: 385 Naze'\n",
      "'Processing city no: 386 Denia'\n",
      "'Processing city no: 387 Vaitape'\n",
      "'Processing city no: 388 Helena'\n",
      "'Processing city no: 389 Kavaratti'\n",
      "'Processing city no: 390 Baruun-Urt'\n",
      "'Processing city no: 391 Bocas del Toro'\n",
      "'Processing city no: 392 Buraidah'\n",
      "'Processing city no: 393 Mocuba'\n",
      "\"Processing city no: 394 Vrangel'\"\n",
      "'Processing city no: 395 Cabra'\n",
      "'Processing city no: 396 Matamoros'\n",
      "'Processing city no: 397 Buenos Aires'\n",
      "'Processing city no: 398 Warrnambool'\n",
      "'Processing city no: 399 Palauig'\n",
      "'Processing city no: 400 Shenjiamen'\n",
      "'Processing city no: 401 Clyde River'\n",
      "'Processing city no: 402 Gao'\n",
      "'Processing city no: 403 Haines Junction'\n",
      "'Processing city no: 404 Soufrière'\n",
      "'Processing city no: 405 Yeppoon'\n",
      "'Processing city no: 406 Khorixas'\n",
      "'Processing city no: 407 Qui Nhon'\n",
      "'Processing city no: 408 Vieira de Leiria'\n",
      "'Processing city no: 409 Zitlala'\n",
      "'Processing city no: 410 Fālākāta'\n",
      "'Processing city no: 411 Xiongzhou'\n",
      "'Processing city no: 412 Americus'\n",
      "'Processing city no: 413 Leh'\n",
      "'Processing city no: 414 La Plata'\n",
      "'Processing city no: 415 Santa Rosalía'\n",
      "'Processing city no: 416 Acaraú'\n",
      "'Processing city no: 417 Longyan'\n",
      "City Not Found!Skipping......\n",
      "'Processing city no: 418 Cayenne'\n",
      "'Processing city no: 419 Batagay-Alyta'\n",
      "'Processing city no: 420 Holme'\n",
      "'Processing city no: 421 El Centro'\n",
      "'Processing city no: 422 Coquimbo'\n",
      "'Processing city no: 423 Sibolga'\n",
      "'Processing city no: 424 Puerto Carreño'\n",
      "'Processing city no: 425 Brae'\n",
      "'Processing city no: 426 Nogliki'\n",
      "'Processing city no: 427 San Clemente'\n",
      "'Processing city no: 428 Neiafu'\n",
      "'Processing city no: 429 Sarangani'\n",
      "'Processing city no: 430 Luján'\n",
      "'Processing city no: 431 Valeggio sul Mincio'\n",
      "'Processing city no: 432 Mana'\n",
      "'Processing city no: 433 Zonguldak'\n",
      "'Processing city no: 434 Te Anau'\n",
      "'Processing city no: 435 Uarini'\n",
      "'Processing city no: 436 Nouadhibou'\n",
      "'Processing city no: 437 Neftçala'\n",
      "'Processing city no: 438 Formosa'\n",
      "'Processing city no: 439 Revda'\n",
      "'Processing city no: 440 Belyy Yar'\n",
      "'Processing city no: 441 Rock Sound'\n"
     ]
    },
    {
     "name": "stdout",
     "output_type": "stream",
     "text": [
      "'Processing city no: 442 Morant Bay'\n",
      "'Processing city no: 443 Melfort'\n",
      "City Not Found!Skipping......\n",
      "'Processing city no: 444 Zhangjiakou'\n",
      "'Processing city no: 445 La Macarena'\n",
      "City Not Found!Skipping......\n",
      "'Processing city no: 446 Charters Towers'\n",
      "'Processing city no: 447 Yangjiang'\n",
      "'Processing city no: 448 Tilichiki'\n",
      "'Processing city no: 449 Alghero'\n",
      "'Processing city no: 450 Vestmannaeyjar'\n",
      "'Processing city no: 451 Guarapuava'\n",
      "'Processing city no: 452 Władysławowo'\n",
      "'Processing city no: 453 Puerto Cabello'\n",
      "'Processing city no: 454 Los Llanos de Aridane'\n",
      "'Processing city no: 455 Bowen'\n",
      "'Processing city no: 456 Iqaluit'\n",
      "'Processing city no: 457 Kamina'\n",
      "'Processing city no: 458 Ubari'\n",
      "'Processing city no: 459 Knyaze-Volkonskoye'\n",
      "'Processing city no: 460 Cabo San Lucas'\n",
      "City Not Found!Skipping......\n",
      "'Processing city no: 461 Khandyga'\n",
      "'Processing city no: 462 Waddān'\n",
      "'Processing city no: 463 Kobelyaky'\n",
      "'Processing city no: 464 Santa Maria'\n",
      "'Processing city no: 465 Dauphin'\n",
      "'Processing city no: 466 Cabo Rojo'\n",
      "'Processing city no: 467 Port Lincoln'\n",
      "'Processing city no: 468 Maceió'\n",
      "'Processing city no: 469 Guanaja'\n",
      "'Processing city no: 470 Nioro'\n",
      "'Processing city no: 471 Nagapattinam'\n",
      "'Processing city no: 472 Romitan'\n",
      "'Processing city no: 473 Magadan'\n",
      "'Processing city no: 474 Salta'\n",
      "'Processing city no: 475 Payo'\n",
      "'Processing city no: 476 Evensk'\n",
      "'Processing city no: 477 Along'\n",
      "'Processing city no: 478 Orange'\n",
      "'Processing city no: 479 Baghdad'\n",
      "'Processing city no: 480 São Félix do Xingu'\n",
      "'Processing city no: 481 Gondanglegi'\n",
      "City Not Found!Skipping......\n",
      "'Processing city no: 482 San Isidro'\n",
      "City Not Found!Skipping......\n",
      "'Processing city no: 483 Nefteyugansk'\n",
      "'Processing city no: 484 Port-Gentil'\n",
      "'Processing city no: 485 Jalu'\n",
      "'Processing city no: 486 Abancay'\n",
      "'Processing city no: 487 Buala'\n",
      "City Not Found!Skipping......\n",
      "'Processing city no: 488 Oodweyne'\n",
      "City Not Found!Skipping......\n",
      "'Processing city no: 489 Wapi Pathum'\n",
      "'Processing city no: 490 Agadez'\n",
      "'Processing city no: 491 Sovetskaya'\n",
      "'Processing city no: 492 Pemba'\n",
      "'Processing city no: 493 Muaná'\n",
      "'Processing city no: 494 Visnes'\n",
      "'Processing city no: 495 Foam Lake'\n",
      "'Processing city no: 496 Talcahuano'\n",
      "'Processing city no: 497 Mingguang'\n",
      "'Processing city no: 498 Changli'\n",
      "'Processing city no: 499 Ambovombe'\n",
      "'Processing city no: 500 Baião'\n",
      "'Processing city no: 501 Panama City'\n",
      "'Processing city no: 502 Leshukonskoye'\n",
      "'Processing city no: 503 Margate'\n",
      "'Processing city no: 504 Ahipara'\n",
      "City Not Found!Skipping......\n",
      "'Processing city no: 505 Isangel'\n",
      "'Processing city no: 506 Paraíso'\n",
      "'Processing city no: 507 Oistins'\n",
      "'Processing city no: 508 Petropavlovsk-Kamchatskiy'\n",
      "'Processing city no: 509 São João da Barra'\n",
      "'Processing city no: 510 Marsala'\n",
      "'Processing city no: 511 Imeni Poliny Osipenko'\n",
      "'Processing city no: 512 Kapoeta'\n",
      "'Processing city no: 513 Yulara'\n",
      "'Processing city no: 514 Okhotsk'\n",
      "'Processing city no: 515 Puerto Colombia'\n",
      "'Processing city no: 516 Diffa'\n",
      "'Processing city no: 517 Igarka'\n",
      "'Processing city no: 518 Manggar'\n",
      "'Processing city no: 519 Japura'\n",
      "'Processing city no: 520 Lethem'\n",
      "'Processing city no: 521 Gizo Government Station'\n",
      "'Processing city no: 522 Bairiki Village'\n",
      "'Processing city no: 523 Dum Duma'\n",
      "'Processing city no: 524 Kungurtug'\n",
      "'Processing city no: 525 Mokshan'\n",
      "City Not Found!Skipping......\n",
      "'Processing city no: 526 Texarkana'\n",
      "City Not Found!Skipping......\n",
      "'Processing city no: 527 Kirakira'\n",
      "'Processing city no: 528 Venafro'\n",
      "'Processing city no: 529 Padang'\n",
      "'Processing city no: 530 Goundi'\n",
      "'Processing city no: 531 Zemio'\n",
      "'Processing city no: 532 Makkah al Mukarramah'\n",
      "'Processing city no: 533 Manaure'\n",
      "'Processing city no: 534 Vestmanna'\n",
      "'Processing city no: 535 Gazojak'\n",
      "'Processing city no: 536 Bubaque'\n",
      "'Processing city no: 537 Sørland'\n",
      "'Processing city no: 538 Loikaw'\n",
      "'Processing city no: 539 Zomba'\n",
      "'Processing city no: 540 Raudeberg'\n",
      "'Processing city no: 541 Bud'\n",
      "City Not Found!Skipping......\n",
      "'Processing city no: 542 Porto Santo'\n",
      "City Not Found!Skipping......\n",
      "'Processing city no: 543 Livingston'\n",
      "'Processing city no: 544 Xichang'\n",
      "City Not Found!Skipping......\n",
      "'Processing city no: 545 Saint-Raymond'\n",
      "'Processing city no: 546 Sinnamary'\n",
      "'Processing city no: 547 Paamiut'\n"
     ]
    }
   ],
   "source": [
    "\n",
    "url = \"http://api.openweathermap.org/data/2.5/weather?\"\n",
    "unit=\"metric\"\n",
    "\n",
    "i=0\n",
    "\n",
    "for citi in cities:\n",
    "        query_url = url + \"appid=\" + weather_api_key + \"&q=\" + citi + \"&units=\" + unit\n",
    "        weather_response = requests.get(query_url+citi)\n",
    "\n",
    "        if weather_response.status_code  == 404:\n",
    "\n",
    "                print (\"City Not Found!Skipping......\")\n",
    "        else:\n",
    "            weather_json = weather_response.json()\n",
    "            pprint(f\"Processing city no: {i} {weather_json['name']}\")\n",
    "            i+=1\n",
    "   \n",
    "        \n",
    "    \n",
    "    \n",
    "        \n",
    "    "
   ]
  },
  {
   "cell_type": "code",
   "execution_count": 4,
   "metadata": {},
   "outputs": [],
   "source": [
    "# Build query URL and request your results in Celsius\n",
    "\n",
    "#create empty lists \n",
    "City = [] \n",
    "Lat = []\n",
    "Lng = [] \n",
    "MaxTemp = [] \n",
    "Humidity = [] \n",
    "Cloudiness = []\n",
    "WindSpeed = []\n",
    "Country = [] \n",
    "Date = []\n",
    "\n",
    "unit=\"metric\"\n",
    "\n",
    "url = \"http://api.openweathermap.org/data/2.5/weather?\"\n",
    "\n",
    "# Get weather data\n",
    "for citi in cities:\n",
    "    query_url = url + \"appid=\" + weather_api_key + \"&q=\" + citi + \"&units=\" + unit\n",
    "    weather_response = requests.get(query_url)\n",
    "    weather_json = weather_response.json()\n",
    "    if weather_response.status_code  != 404:\n",
    "        City.append(citi)\n",
    "        Lat.append(weather_json['coord']['lat'])\n",
    "        Lng.append(weather_json['coord']['lon'])\n",
    "        MaxTemp.append(weather_json['main']['temp_max'])\n",
    "        Humidity.append(weather_json['main']['humidity'])\n",
    "        Cloudiness.append(weather_json['clouds']['all'])\n",
    "        WindSpeed.append(weather_json['wind']['speed'])\n",
    "        Country.append(weather_json['sys']['country'])\n",
    "        Date.append(weather_json['dt'])\n",
    "\n"
   ]
  },
  {
   "cell_type": "code",
   "execution_count": 5,
   "metadata": {
    "scrolled": true
   },
   "outputs": [],
   "source": [
    "#Round the Lat and Lng data\n",
    "round_lat = [round(lt, 2) for lt in Lat]\n",
    "round_lng = [round(lg, 2) for lg in Lng]\n",
    "\n",
    "#Create New Dataframe\n",
    "weather_df = pd.DataFrame({\n",
    "    \"City\":City,\n",
    "    \"Lat\":round_lat,\n",
    "    \"Lng\":round_lng,\n",
    "    \"Max Temp\":MaxTemp,\n",
    "    \"Humidity\":Humidity,\n",
    "    \"Cloudiness\":Cloudiness,\n",
    "    \"Wind Speed\":WindSpeed,\n",
    "    \"Country\":Country,\n",
    "    \"Date\":Date\n",
    "})\n"
   ]
  },
  {
   "cell_type": "markdown",
   "metadata": {},
   "source": [
    "### Convert Raw Data to DataFrame\n",
    "* Export the city data into a .csv.\n",
    "* Display the DataFrame"
   ]
  },
  {
   "cell_type": "code",
   "execution_count": 6,
   "metadata": {},
   "outputs": [
    {
     "name": "stdout",
     "output_type": "stream",
     "text": [
      "        City    Lat     Lng  Max Temp  Humidity  Cloudiness  Wind Speed  \\\n",
      "0     itoman  26.12  127.67     22.00        64          40        5.14   \n",
      "1  boa vista   2.82  -60.67     25.00        83           0        1.03   \n",
      "2   hermanus -34.42   19.23     17.22        95          99        2.32   \n",
      "3     albany  42.60  -73.97      0.00        47           1        2.06   \n",
      "4  busselton -33.65  115.33     21.11        51           0        1.34   \n",
      "\n",
      "  Country        Date  \n",
      "0      JP  1615692746  \n",
      "1      BR  1615692679  \n",
      "2      ZA  1615692747  \n",
      "3      US  1615692560  \n",
      "4      AU  1615692582  \n"
     ]
    }
   ],
   "source": [
    "#Export data to CSV\n",
    "weather_df.to_csv(output_data_file, index=False)\n",
    "print(weather_df.head())"
   ]
  },
  {
   "cell_type": "code",
   "execution_count": 7,
   "metadata": {},
   "outputs": [],
   "source": [
    "#Create the aggregates for columns on the dataframe\n",
    "\n",
    "mean = weather_df[['Lat','Lng','Max Temp','Humidity','Cloudiness','Wind Speed']].mean()\n",
    "count_lst = weather_df[['Lat','Lng','Max Temp','Humidity','Cloudiness','Wind Speed']].count()\n",
    "std = weather_df[['Lat','Lng','Max Temp','Humidity','Cloudiness','Wind Speed']].std()\n",
    "min_lst = weather_df[['Lat','Lng','Max Temp','Humidity','Cloudiness','Wind Speed']].min()\n",
    "max_lst = weather_df[['Lat','Lng','Max Temp','Humidity','Cloudiness','Wind Speed']].max()\n"
   ]
  },
  {
   "cell_type": "code",
   "execution_count": 8,
   "metadata": {},
   "outputs": [
    {
     "name": "stdout",
     "output_type": "stream",
     "text": [
      "[-8.03, -67.63, 2.78, 60.75, 4.0, 1.54]\n",
      "[23.54, 17.48, 17.78, 74.0, 53.0, 3.09]\n",
      "[47.76, 97.47, 24.44, 86.0, 90.0, 5.08]\n"
     ]
    }
   ],
   "source": [
    "#Extract the percentile data form DataFrame\n",
    "\n",
    "qtr_lst =[]\n",
    "fty_lst=[]\n",
    "svnfy_lst =[]\n",
    "\n",
    "qtr_lst.append(np.percentile(weather_df[['Lat']], 25))\n",
    "qtr_lst.append(np.percentile(weather_df[['Lng']], 25))\n",
    "qtr_lst.append(np.percentile(weather_df[['Max Temp']], 25))\n",
    "qtr_lst.append(np.percentile(weather_df[['Humidity']], 25))\n",
    "qtr_lst.append(np.percentile(weather_df[['Cloudiness']], 25))\n",
    "qtr_lst.append(np.percentile(weather_df[['Wind Speed']], 25))\n",
    "\n",
    "fty_lst.append(np.percentile(weather_df[['Lat']], 50))\n",
    "fty_lst.append(np.percentile(weather_df[['Lng']], 50))\n",
    "fty_lst.append(np.percentile(weather_df[['Max Temp']], 50))\n",
    "fty_lst.append(np.percentile(weather_df[['Humidity']], 50))\n",
    "fty_lst.append(np.percentile(weather_df[['Cloudiness']], 50))\n",
    "fty_lst.append(np.percentile(weather_df[['Wind Speed']], 50))\n",
    "\n",
    "svnfy_lst.append(np.percentile(weather_df[['Lat']], 75))\n",
    "svnfy_lst.append(np.percentile(weather_df[['Lng']], 75))\n",
    "svnfy_lst.append(np.percentile(weather_df[['Max Temp']], 75))\n",
    "svnfy_lst.append(np.percentile(weather_df[['Humidity']], 75))\n",
    "svnfy_lst.append(np.percentile(weather_df[['Cloudiness']], 75))\n",
    "svnfy_lst.append(np.percentile(weather_df[['Wind Speed']], 75))\n",
    "\n",
    "\n",
    "#print(qtr_lst)\n",
    "#print(fty_lst)\n",
    "#print(svnfy_lst)\n",
    "\n",
    "round_qtr = [round(q, 2) for q in qtr_lst]\n",
    "round_fty = [round(f, 2) for f in fty_lst]\n",
    "round_svn = [round(s, 2) for s in svnfy_lst]\n",
    "\n",
    "print(round_qtr)\n",
    "print(round_fty)\n",
    "print(round_svn)\n"
   ]
  },
  {
   "cell_type": "code",
   "execution_count": 9,
   "metadata": {},
   "outputs": [
    {
     "name": "stdout",
     "output_type": "stream",
     "text": [
      "              Lat         Lng    Max Temp    Humidity  Cloudiness  Wind Speed\n",
      "count  548.000000  548.000000  548.000000  548.000000  548.000000  548.000000\n",
      "mean    19.636223   13.547828   12.663796   71.158759   51.052920    3.630839\n",
      "std     33.455019   92.063345   14.983366   19.255484   39.587486    2.530134\n",
      "min    -54.800000 -175.200000  -30.370000    7.000000    0.000000    0.180000\n",
      "25%     -8.030000  -67.630000    2.780000   60.750000    4.000000    1.540000\n",
      "50%     23.540000   17.480000   17.780000   74.000000   53.000000    3.090000\n",
      "75%     47.760000   97.470000   24.440000   86.000000   90.000000    5.080000\n",
      "max     78.220000  178.420000   34.860000  100.000000  100.000000   13.890000\n"
     ]
    }
   ],
   "source": [
    "#Create dataframe of aggregates\n",
    "aggregates_df = pd.DataFrame({'count':count_lst,\n",
    "              'mean':mean,\n",
    "              'std':std,\n",
    "              'min':min_lst,\n",
    "              '25%':round_qtr,\n",
    "              '50%':round_fty,\n",
    "              '75%':round_svn,\n",
    "              'max':max_lst\n",
    "})\n",
    "\n",
    "#Rearrange the dataframe\n",
    "df = aggregates_df.transpose()\n",
    "print(df.head(10))"
   ]
  },
  {
   "cell_type": "markdown",
   "metadata": {},
   "source": [
    "## Inspect the data and remove the cities where the humidity > 100%.\n",
    "----\n",
    "Skip this step if there are no cities that have humidity > 100%. "
   ]
  },
  {
   "cell_type": "code",
   "execution_count": 10,
   "metadata": {},
   "outputs": [
    {
     "name": "stdout",
     "output_type": "stream",
     "text": [
      "[]\n",
      "Empty DataFrame\n",
      "Columns: [City, Lat, Lng, Max Temp, Humidity, Cloudiness, Wind Speed, Country, Date]\n",
      "Index: []\n"
     ]
    }
   ],
   "source": [
    "#  Get the indices of cities that have humidity over 100%.\n",
    "select_indices = list(np.where(weather_df[\"Humidity\"]>100)[0])\n",
    "print(select_indices)\n",
    "print(weather_df.iloc[select_indices])"
   ]
  },
  {
   "cell_type": "code",
   "execution_count": 11,
   "metadata": {},
   "outputs": [
    {
     "name": "stdout",
     "output_type": "stream",
     "text": [
      "The lower quartile  is: 60.75\n",
      "The upper quartile  is: 86.0\n",
      "The interquartile range  is: 25.25\n",
      "The the median  is: 74.0 \n",
      "Values below 22.875 could be outliers.\n",
      "Values above 123.875 could be outliers.\n",
      "\n",
      "\n"
     ]
    }
   ],
   "source": [
    "# Make a new DataFrame equal to the city data to drop all humidity outliers by index.\n",
    "# Passing \"inplace=False\" will make a copy of the city_data DataFrame, which we call \"clean_city_data\".\n",
    "\n",
    "quartiles = weather_df[\"Humidity\"].quantile([.25,.5,.75])\n",
    "lowerq = quartiles[0.25]\n",
    "upperq = quartiles[0.75]\n",
    "iqr = upperq-lowerq\n",
    "    \n",
    "print(f\"The lower quartile  is: {lowerq}\")\n",
    "print(f\"The upper quartile  is: {upperq}\")\n",
    "print(f\"The interquartile range  is: {iqr}\")\n",
    "print(f\"The the median  is: {quartiles[0.5]} \")\n",
    "    \n",
    "      \n",
    "# Determine humidity outliers using upper and lower bounds\n",
    "lower_bound = lowerq - (1.5*iqr)\n",
    "upper_bound = upperq + (1.5*iqr)\n",
    "print(f\"Values below {lower_bound} could be outliers.\")\n",
    "print(f\"Values above {upper_bound} could be outliers.\")\n",
    "print(\"\\n\")"
   ]
  },
  {
   "cell_type": "code",
   "execution_count": 12,
   "metadata": {},
   "outputs": [
    {
     "name": "stdout",
     "output_type": "stream",
     "text": [
      "[111, 192, 245, 309, 338, 340, 396, 470, 490, 516, 538]\n",
      "                        City    Lat     Lng  Max Temp  Humidity  Cloudiness  \\\n",
      "111                  pakokku  21.33   95.10     33.73        18           0   \n",
      "192  san carlos de bariloche -41.15  -71.31     14.00        18           0   \n",
      "245                  zhangye  38.93  100.45     19.54         9           1   \n",
      "309                    mongo  12.18   18.69     24.12        17           0   \n",
      "338                  magaria  13.00    8.91     24.32        17          21   \n",
      "340                    arlit  18.74    7.39     20.02        18          47   \n",
      "396                matamoros  25.53 -103.25     31.00         7          40   \n",
      "470                    nioro  13.35  -15.75     22.28        17          70   \n",
      "490                   agadez  19.75   10.25     22.55        12          42   \n",
      "516                    diffa  13.32   12.61     26.26        11          91   \n",
      "538                   loikaw  19.67   97.21     34.86        16           0   \n",
      "\n",
      "     Wind Speed Country        Date  \n",
      "111        3.14      MM  1615692767  \n",
      "192        0.51      AR  1615692714  \n",
      "245        4.45      CN  1615692668  \n",
      "309        1.56      TD  1615692806  \n",
      "338        5.22      NE  1615692812  \n",
      "340        3.40      NE  1615692812  \n",
      "396        4.12      MX  1615692636  \n",
      "470        1.81      GM  1615692839  \n",
      "490        5.12      NE  1615692842  \n",
      "516        3.39      NE  1615692848  \n",
      "538        0.68      MM  1615692744  \n"
     ]
    }
   ],
   "source": [
    "# Make a new DataFrame equal to the city data to drop all humidity outliers by index.\n",
    "# Passing \"inplace=False\" will make a copy of the city_data DataFrame, which we call \"clean_city_data\".\n",
    "\n",
    "#Find the index of outliers in the current dataframe \n",
    "select_indices = list(np.where((weather_df[\"Humidity\"]<lower_bound) | (weather_df[\"Humidity\"]>upper_bound ))[0])\n",
    "print(select_indices)\n",
    "\n",
    "#Print the outliers on Humidity  column\n",
    "print(weather_df.iloc[select_indices])\n"
   ]
  },
  {
   "cell_type": "code",
   "execution_count": 13,
   "metadata": {},
   "outputs": [
    {
     "name": "stdout",
     "output_type": "stream",
     "text": [
      "              City    Lat     Lng  Max Temp  Humidity  Cloudiness  Wind Speed  \\\n",
      "0           itoman  26.12  127.67     22.00        64          40        5.14   \n",
      "1        boa vista   2.82  -60.67     25.00        83           0        1.03   \n",
      "2         hermanus -34.42   19.23     17.22        95          99        2.32   \n",
      "3           albany  42.60  -73.97      0.00        47           1        2.06   \n",
      "4        busselton -33.65  115.33     21.11        51           0        1.34   \n",
      "..             ...    ...     ...       ...       ...         ...         ...   \n",
      "543     livingston  55.90   -3.52      4.00        81           3        5.66   \n",
      "544        xichang  27.90  102.26     21.49        37           0        2.14   \n",
      "545  saint-raymond  45.47  -73.61     -2.78        80         100        1.54   \n",
      "546      sinnamary   5.38  -52.95     24.99        89         100        5.59   \n",
      "547        paamiut  61.99  -49.67     -7.43        52         100        2.69   \n",
      "\n",
      "    Country        Date  \n",
      "0        JP  1615692746  \n",
      "1        BR  1615692679  \n",
      "2        ZA  1615692747  \n",
      "3        US  1615692560  \n",
      "4        AU  1615692582  \n",
      "..      ...         ...  \n",
      "543      GB  1615692854  \n",
      "544      CN  1615692854  \n",
      "545      CA  1615692855  \n",
      "546      GF  1615692855  \n",
      "547      GL  1615692855  \n",
      "\n",
      "[537 rows x 9 columns]\n"
     ]
    }
   ],
   "source": [
    "#Remove the humidity outliers and copy it to a new DF\n",
    "clean_city_data = weather_df.drop(select_indices, inplace=False)\n",
    "print(clean_city_data)"
   ]
  },
  {
   "cell_type": "markdown",
   "metadata": {},
   "source": [
    "## Plotting the Data\n",
    "* Use proper labeling of the plots using plot titles (including date of analysis) and axes labels.\n",
    "* Save the plotted figures as .pngs."
   ]
  },
  {
   "cell_type": "markdown",
   "metadata": {},
   "source": [
    "## Latitude vs. Temperature Plot"
   ]
  },
  {
   "cell_type": "code",
   "execution_count": 14,
   "metadata": {},
   "outputs": [
    {
     "data": {
      "image/png": "[encoded data removed]",
      "text/plain": [
       "<Figure size 432x288 with 1 Axes>"
      ]
     },
     "metadata": {
      "needs_background": "light"
     },
     "output_type": "display_data"
    }
   ],
   "source": [
    "\n",
    "maxtemp_f = [(C * 9/5) + 32 for C in clean_city_data['Max Temp' ]]\n",
    "\n",
    "\n",
    "x_axis = clean_city_data['Lat' ]\n",
    "y_axis =  maxtemp_f\n",
    "\n",
    "\n",
    "plt.scatter(x_axis, y_axis, facecolor = \"steelblue\", edgecolor = \"black\")\n",
    "# Set title\n",
    "plt.title(\"City Latitude vs. Max Temperature \")\n",
    "\n",
    "# Set x axis label\n",
    "plt.xlabel(\"Laitude\")\n",
    "\n",
    "# Set y axis label\n",
    "plt.ylabel(\"Max Temperature (F)\")\n",
    "\n",
    "# Set grid line\n",
    "plt.grid(linestyle='-', linewidth=1, alpha = 0.5)\n",
    "\n",
    "# Save the plotted figure as .pngs\n",
    "plt.savefig(\"../Images/City Latitude vs Max Temperature.png\")\n",
    "plt.show()"
   ]
  },
  {
   "cell_type": "code",
   "execution_count": 16,
   "metadata": {},
   "outputs": [
    {
     "name": "stdout",
     "output_type": "stream",
     "text": [
      "Latitude vs Max Temperature Analysis: Higher the latitude,towards North, the temprature decreases.\n"
     ]
    }
   ],
   "source": [
    "print(\"Latitude vs Max Temperature Analysis: Higher the latitude,towards North, the temprature decreases.\")"
   ]
  },
  {
   "cell_type": "markdown",
   "metadata": {},
   "source": [
    "## Latitude vs. Humidity Plot"
   ]
  },
  {
   "cell_type": "code",
   "execution_count": 17,
   "metadata": {},
   "outputs": [
    {
     "data": {
      "image/png": "[encoded data removed]",
      "text/plain": [
       "<Figure size 432x288 with 1 Axes>"
      ]
     },
     "metadata": {
      "needs_background": "light"
     },
     "output_type": "display_data"
    }
   ],
   "source": [
    "# Create Latitude vs. Humidity Plot scatter plot\n",
    "\n",
    "x_axis = clean_city_data['Lat' ]\n",
    "y_axis =  clean_city_data['Humidity']\n",
    "\n",
    "#plt.figure(figsize=(10, 10))\n",
    "plt.scatter(x_axis, y_axis, facecolor = \"steelblue\", edgecolor = \"black\")\n",
    "# Set title\n",
    "plt.title(\"City Latitude vs. Humidity\")\n",
    "\n",
    "# Set x axis label\n",
    "plt.xlabel(\"Laitude\")\n",
    "\n",
    "# Set y axis label\n",
    "plt.ylabel(\"Humidity (%)\")\n",
    "\n",
    "# Set grid line\n",
    "plt.grid(linestyle='-', linewidth=1, alpha = 0.5)\n",
    "\n",
    "# Save the plotted figure as .pngs\n",
    "plt.savefig(\"../Images/City Latitude vs Humidity.png\")\n",
    "plt.show()"
   ]
  },
  {
   "cell_type": "code",
   "execution_count": 19,
   "metadata": {},
   "outputs": [
    {
     "name": "stdout",
     "output_type": "stream",
     "text": [
      "Latitude vs Humidity Analysis: No apparent relatioship between Latitude and Humidity\n"
     ]
    }
   ],
   "source": [
    "print(\"Latitude vs Humidity Analysis: No apparent relatioship between Latitude and Humidity\")"
   ]
  },
  {
   "cell_type": "markdown",
   "metadata": {},
   "source": [
    "## Latitude vs. Cloudiness Plot"
   ]
  },
  {
   "cell_type": "code",
   "execution_count": 20,
   "metadata": {},
   "outputs": [
    {
     "data": {
      "image/png": "[encoded data removed]",
      "text/plain": [
       "<Figure size 432x288 with 1 Axes>"
      ]
     },
     "metadata": {
      "needs_background": "light"
     },
     "output_type": "display_data"
    }
   ],
   "source": [
    "# Create Latitude vs. Cloudiness Plot scatter plot\n",
    "x_axis = clean_city_data['Lat' ]\n",
    "y_axis =  clean_city_data['Cloudiness']\n",
    "\n",
    "#plt.figure(figsize=(10, 10))\n",
    "plt.scatter(x_axis, y_axis, facecolor = \"steelblue\", edgecolor = \"black\")\n",
    "# Set title\n",
    "plt.title(\"City Latitude vs. Cloudiness\")\n",
    "\n",
    "# Set x axis label\n",
    "plt.xlabel(\"Laitude\")\n",
    "\n",
    "# Set y axis label\n",
    "plt.ylabel(\"Cloudiness(%)\")\n",
    "\n",
    "# Set grid line\n",
    "plt.grid(linestyle='-', linewidth=1, alpha = 0.5)\n",
    "\n",
    "# Save the plotted figure as .pngs\n",
    "plt.savefig(\"../Images/City Latitude vs Cloudiness.png\")\n",
    "plt.show()"
   ]
  },
  {
   "cell_type": "markdown",
   "metadata": {},
   "source": [
    "## Latitude vs. Wind Speed Plot"
   ]
  },
  {
   "cell_type": "code",
   "execution_count": 21,
   "metadata": {},
   "outputs": [
    {
     "data": {
      "image/png": "[encoded data removed]",
      "text/plain": [
       "<Figure size 432x288 with 1 Axes>"
      ]
     },
     "metadata": {
      "needs_background": "light"
     },
     "output_type": "display_data"
    }
   ],
   "source": [
    "# Create Latitude vs. Wind Speed Plot scatter plot\n",
    "x_axis = clean_city_data['Lat' ]\n",
    "y_axis =  clean_city_data['Wind Speed']\n",
    "\n",
    "#plt.figure(figsize=(10, 10))\n",
    "plt.scatter(x_axis, y_axis, facecolor = \"steelblue\", edgecolor = \"black\")\n",
    "# Set title\n",
    "plt.title(\"City Latitude vs. Wind Speed\")\n",
    "\n",
    "# Set x axis label\n",
    "plt.xlabel(\"Laitude\")\n",
    "\n",
    "# Set y axis label\n",
    "plt.ylabel(\"Wind Speed(mph)\")\n",
    "\n",
    "# Set grid line\n",
    "plt.grid(linestyle='-', linewidth=1, alpha = 0.5)\n",
    "\n",
    "# Save the plotted figure as .pngs\n",
    "plt.savefig(\"../Images/City Latitude vs WindSpeed.png\")\n",
    "plt.show() "
   ]
  },
  {
   "cell_type": "markdown",
   "metadata": {},
   "source": [
    "## Linear Regression"
   ]
  },
  {
   "cell_type": "code",
   "execution_count": 22,
   "metadata": {},
   "outputs": [],
   "source": [
    "# Create Northern and Southern Hemisphere DataFrames\n",
    "northern_hemisphere = clean_city_data.loc[clean_city_data[\"Lat\"] >= 0]\n",
    "southern_hemisphere = clean_city_data.loc[clean_city_data[\"Lat\"] < 0]"
   ]
  },
  {
   "cell_type": "code",
   "execution_count": 23,
   "metadata": {},
   "outputs": [],
   "source": [
    "##Northern Hemisphere - Max Temp vs. Latitude Linear Regression"
   ]
  },
  {
   "cell_type": "code",
   "execution_count": 24,
   "metadata": {},
   "outputs": [
    {
     "name": "stdout",
     "output_type": "stream",
     "text": [
      "y = -1.24x + 94.01\n",
      "The r-squared is: 0.8141453801999682\n"
     ]
    },
    {
     "data": {
      "image/png": "[encoded data removed]",
      "text/plain": [
       "<Figure size 432x288 with 1 Axes>"
      ]
     },
     "metadata": {
      "needs_background": "light"
     },
     "output_type": "display_data"
    },
    {
     "data": {
      "text/plain": [
       "<Figure size 432x288 with 0 Axes>"
      ]
     },
     "metadata": {},
     "output_type": "display_data"
    }
   ],
   "source": [
    "#Northern Hemisphere - Max Temp vs. Latitude Linear Regression\n",
    "maxtemp_f = [(C * 9/5) + 32 for C in  northern_hemisphere['Max Temp']]\n",
    "\n",
    "\n",
    "x_values = northern_hemisphere['Lat']\n",
    "y_values = maxtemp_f\n",
    "\n",
    "(slope, intercept, rvalue, pvalue, stderr) = linregress(x_values, y_values)\n",
    "regress_values = x_values * slope + intercept\n",
    "line_eq = \"y = \" + str(round(slope,2)) + \"x + \" + str(round(intercept,2))\n",
    "\n",
    "plt.scatter(x_values,y_values)\n",
    "plt.plot(x_values,regress_values,\"r-\")\n",
    "print(line_eq)\n",
    "plt.annotate(line_eq,(5,5),fontsize=16,color=\"red\")\n",
    "plt.title('Northern Hemisphere - Max Temp vs. Latitude Linear Regression')\n",
    "plt.xlabel('Latitude')\n",
    "plt.ylabel('Max Temp(F)')\n",
    "print(f\"The r-squared is: {rvalue**2}\")\n",
    "plt.show()\n",
    "\n",
    "# Save the figure\n",
    "plt.savefig(\"../Images/Northern Hemisphere - Max Temp vs. Latitude Linear Regression.png\")"
   ]
  },
  {
   "cell_type": "code",
   "execution_count": 26,
   "metadata": {},
   "outputs": [
    {
     "name": "stdout",
     "output_type": "stream",
     "text": [
      "Northern Hemisphere - Max Temp vs. Latitude Analysis: As latitude increases MAx Temp decreases.\n",
      "Noticable temperature drop is observed at higher latitudes after 20.\n"
     ]
    }
   ],
   "source": [
    "print(\"Northern Hemisphere - Max Temp vs. Latitude Analysis: As latitude increases MAx Temp decreases.\")\n",
    "print(\"Noticable temperature drop is observed at higher latitudes after 20.\")"
   ]
  },
  {
   "cell_type": "markdown",
   "metadata": {},
   "source": [
    "####  Southern Hemisphere - Max Temp vs. Latitude Linear Regression"
   ]
  },
  {
   "cell_type": "code",
   "execution_count": 27,
   "metadata": {},
   "outputs": [
    {
     "name": "stdout",
     "output_type": "stream",
     "text": [
      "y = 0.43x + 81.84\n",
      "The r-squared is: 0.33210531192847387\n"
     ]
    },
    {
     "data": {
      "image/png": "[encoded data removed]",
      "text/plain": [
       "<Figure size 432x288 with 1 Axes>"
      ]
     },
     "metadata": {
      "needs_background": "light"
     },
     "output_type": "display_data"
    },
    {
     "data": {
      "text/plain": [
       "<Figure size 432x288 with 0 Axes>"
      ]
     },
     "metadata": {},
     "output_type": "display_data"
    }
   ],
   "source": [
    "#Southern Hemisphere - Max Temp vs. Latitude Linear Regression\n",
    "maxtemp_f = [(C * 9/5) + 32 for C in  southern_hemisphere['Max Temp']]\n",
    "\n",
    "\n",
    "x_values = southern_hemisphere['Lat']\n",
    "y_values = maxtemp_f\n",
    "\n",
    "(slope, intercept, rvalue, pvalue, stderr) = linregress(x_values, y_values)\n",
    "regress_values = x_values * slope + intercept\n",
    "line_eq = \"y = \" + str(round(slope,2)) + \"x + \" + str(round(intercept,2))\n",
    "\n",
    "plt.scatter(x_values,y_values)\n",
    "plt.plot(x_values,regress_values,\"r-\")\n",
    "print(line_eq)\n",
    "plt.annotate(line_eq,(-40,40),fontsize=16,color=\"red\")\n",
    "plt.title('Southern_hemisphere Hemisphere - Max Temp vs. Latitude Linear Regression')\n",
    "plt.xlabel('Latitude')\n",
    "plt.ylabel('Max Temp(F)')\n",
    "print(f\"The r-squared is: {rvalue**2}\")\n",
    "plt.show()\n",
    "# Save the figure\n",
    "plt.savefig(\"../Images/Southern Hemisphere - Max Temp vs. Latitude Linear Regression.png\")"
   ]
  },
  {
   "cell_type": "code",
   "execution_count": 28,
   "metadata": {},
   "outputs": [
    {
     "name": "stdout",
     "output_type": "stream",
     "text": [
      "Southern Hemisphere - Max Temp vs. Latitude Analysis: There exists a linear relationship between LAtitude and max temp.\n"
     ]
    }
   ],
   "source": [
    "print(\"Southern Hemisphere - Max Temp vs. Latitude Analysis: There exists a linear relationship between LAtitude and max temp.\")"
   ]
  },
  {
   "cell_type": "markdown",
   "metadata": {},
   "source": [
    "####  Northern Hemisphere - Humidity (%) vs. Latitude Linear Regression"
   ]
  },
  {
   "cell_type": "code",
   "execution_count": 29,
   "metadata": {},
   "outputs": [
    {
     "name": "stdout",
     "output_type": "stream",
     "text": [
      "y = 0.22x + 62.58\n",
      "The r-squared is: 0.058192300836558325\n"
     ]
    },
    {
     "data": {
      "image/png": "[encoded data removed]",
      "text/plain": [
       "<Figure size 432x288 with 1 Axes>"
      ]
     },
     "metadata": {
      "needs_background": "light"
     },
     "output_type": "display_data"
    },
    {
     "data": {
      "text/plain": [
       "<Figure size 432x288 with 0 Axes>"
      ]
     },
     "metadata": {},
     "output_type": "display_data"
    }
   ],
   "source": [
    "#Northern Hemisphere - Humidity (%) vs. Latitude Linear Regression\n",
    "\n",
    "x_values = northern_hemisphere['Lat']\n",
    "y_values = northern_hemisphere['Humidity']\n",
    "\n",
    "(slope, intercept, rvalue, pvalue, stderr) = linregress(x_values, y_values)\n",
    "regress_values = x_values * slope + intercept\n",
    "line_eq = \"y = \" + str(round(slope,2)) + \"x + \" + str(round(intercept,2))\n",
    "\n",
    "plt.scatter(x_values,y_values)\n",
    "plt.plot(x_values,regress_values,\"r-\")\n",
    "print(line_eq)\n",
    "plt.annotate(line_eq,(40,20),fontsize=16,color=\"red\")\n",
    "plt.title('Northern Hemisphere - Humidity (%) vs. Latitude Linear Regression')\n",
    "plt.xlabel('Latitude')\n",
    "plt.ylabel('Humidity (%)')\n",
    "print(f\"The r-squared is: {rvalue**2}\")\n",
    "plt.show()\n",
    "\n",
    "# Save the figure\n",
    "plt.savefig(\"../Images/Northern Hemisphere - Humidity (%) vs. Latitude Linear Regression.png\")"
   ]
  },
  {
   "cell_type": "code",
   "execution_count": 30,
   "metadata": {},
   "outputs": [
    {
     "name": "stdout",
     "output_type": "stream",
     "text": [
      "Northern Hemisphere - Humidity (%) vs. Latitude : No linear relationship exists between humidity and Latitude\n"
     ]
    }
   ],
   "source": [
    "print(\"Northern Hemisphere - Humidity (%) vs. Latitude : No linear relationship exists between humidity and Latitude\")"
   ]
  },
  {
   "cell_type": "markdown",
   "metadata": {},
   "source": [
    "####  Southern Hemisphere - Humidity (%) vs. Latitude Linear Regression"
   ]
  },
  {
   "cell_type": "code",
   "execution_count": 31,
   "metadata": {},
   "outputs": [
    {
     "name": "stdout",
     "output_type": "stream",
     "text": [
      "y = 0.4x + 83.07\n",
      "The r-squared is: 0.11971352041057459\n"
     ]
    },
    {
     "data": {
      "image/png": "[encoded data removed]",
      "text/plain": [
       "<Figure size 432x288 with 1 Axes>"
      ]
     },
     "metadata": {
      "needs_background": "light"
     },
     "output_type": "display_data"
    },
    {
     "data": {
      "text/plain": [
       "<Figure size 432x288 with 0 Axes>"
      ]
     },
     "metadata": {},
     "output_type": "display_data"
    }
   ],
   "source": [
    "#Southern Hemisphere - Humidity (%) vs. Latitude Linear Regression\n",
    "\n",
    "x_values = southern_hemisphere['Lat']\n",
    "y_values = southern_hemisphere['Humidity']\n",
    "\n",
    "(slope, intercept, rvalue, pvalue, stderr) = linregress(x_values, y_values)\n",
    "regress_values = x_values * slope + intercept\n",
    "line_eq = \"y = \" + str(round(slope,2)) + \"x + \" + str(round(intercept,2))\n",
    "\n",
    "plt.scatter(x_values,y_values)\n",
    "plt.plot(x_values,regress_values,\"r-\")\n",
    "print(line_eq)\n",
    "plt.annotate(line_eq,(-25,30),fontsize=16,color=\"red\")\n",
    "plt.title('Southern Hemisphere - Humidity (%) vs. Latitude Linear Regression')\n",
    "plt.xlabel('Latitude')\n",
    "plt.ylabel('Humidity (%)')\n",
    "print(f\"The r-squared is: {rvalue**2}\")\n",
    "plt.show()\n",
    "\n",
    "# Save the figure\n",
    "plt.savefig(\"../Images/Southern Hemisphere - Humidity (%) vs. Latitude Linear Regression.png\")"
   ]
  },
  {
   "cell_type": "code",
   "execution_count": 32,
   "metadata": {},
   "outputs": [
    {
     "name": "stdout",
     "output_type": "stream",
     "text": [
      "Southern Hemisphere - Humidity (%) vs. Latitude : Weak linear relationship exists between humidity and Latitude\n"
     ]
    }
   ],
   "source": [
    "print(\"Southern Hemisphere - Humidity (%) vs. Latitude : Weak linear relationship exists between humidity and Latitude\")"
   ]
  },
  {
   "cell_type": "markdown",
   "metadata": {},
   "source": [
    "####  Northern Hemisphere - Cloudiness (%) vs. Latitude Linear Regression"
   ]
  },
  {
   "cell_type": "code",
   "execution_count": null,
   "metadata": {},
   "outputs": [],
   "source": [
    "#Northern Hemisphere - Cloudiness (%) vs. Latitude Linear Regression\n",
    "\n",
    "x_values = northern_hemisphere['Lat']\n",
    "y_values = northern_hemisphere['Cloudiness']\n",
    "\n",
    "(slope, intercept, rvalue, pvalue, stderr) = linregress(x_values, y_values)\n",
    "regress_values = x_values * slope + intercept\n",
    "line_eq = \"y = \" + str(round(slope,2)) + \"x + \" + str(round(intercept,2))\n",
    "\n",
    "plt.scatter(x_values,y_values)\n",
    "plt.plot(x_values,regress_values,\"r-\")\n",
    "print(line_eq)\n",
    "plt.annotate(line_eq,(40,30),fontsize=16,color=\"red\")\n",
    "plt.title('Northern Hemisphere - Cloudiness (%) vs. Latitude Linear Regression')\n",
    "plt.xlabel('Latitude')\n",
    "plt.ylabel('Cloudiness (%)')\n",
    "print(f\"The r-squared is: {rvalue**2}\")\n",
    "plt.show()\n",
    "\n",
    "# Save the figure\n",
    "plt.savefig(\"../Images/Northern Hemisphere - Cloudiness (%) vs. Latitude Linear Regression.png\")"
   ]
  },
  {
   "cell_type": "code",
   "execution_count": 33,
   "metadata": {},
   "outputs": [
    {
     "name": "stdout",
     "output_type": "stream",
     "text": [
      "Northern Hemisphere - Cloudiness (%) vs. Latitude: No linear relationship exists between LAtitude and the Cloudiness\n"
     ]
    }
   ],
   "source": [
    "print(\"Northern Hemisphere - Cloudiness (%) vs. Latitude: No linear relationship exists between LAtitude and the Cloudiness\")"
   ]
  },
  {
   "cell_type": "markdown",
   "metadata": {},
   "source": [
    "####  Southern Hemisphere - Cloudiness (%) vs. Latitude Linear Regression"
   ]
  },
  {
   "cell_type": "code",
   "execution_count": 34,
   "metadata": {},
   "outputs": [
    {
     "name": "stdout",
     "output_type": "stream",
     "text": [
      "y = 1.2x + 72.5\n",
      "The r-squared is: 0.19521670925278553\n"
     ]
    },
    {
     "data": {
      "image/png": "[encoded data removed]",
      "text/plain": [
       "<Figure size 432x288 with 1 Axes>"
      ]
     },
     "metadata": {
      "needs_background": "light"
     },
     "output_type": "display_data"
    },
    {
     "data": {
      "text/plain": [
       "<Figure size 432x288 with 0 Axes>"
      ]
     },
     "metadata": {},
     "output_type": "display_data"
    }
   ],
   "source": [
    "#Southern Hemisphere - Cloudiness (%) vs. Latitude Linear Regression\n",
    "\n",
    "x_values = southern_hemisphere['Lat']\n",
    "y_values = southern_hemisphere['Cloudiness']\n",
    "\n",
    "(slope, intercept, rvalue, pvalue, stderr) = linregress(x_values, y_values)\n",
    "regress_values = x_values * slope + intercept\n",
    "line_eq = \"y = \" + str(round(slope,2)) + \"x + \" + str(round(intercept,2))\n",
    "\n",
    "plt.scatter(x_values,y_values)\n",
    "plt.plot(x_values,regress_values,\"r-\")\n",
    "print(line_eq)\n",
    "plt.annotate(line_eq,(-25,30),fontsize=16,color=\"red\")\n",
    "plt.title('Southern Hemisphere - Cloudiness (%) vs. Latitude Linear Regression')\n",
    "plt.xlabel('Latitude')\n",
    "plt.ylabel('Cloudiness (%)')\n",
    "print(f\"The r-squared is: {rvalue**2}\")\n",
    "plt.show()\n",
    "\n",
    "# Save the figure\n",
    "plt.savefig(\"../Images/Southern Hemisphere - Cloudiness (%) vs. Latitude Linear Regression.png\")"
   ]
  },
  {
   "cell_type": "markdown",
   "metadata": {},
   "source": [
    "####  Northern Hemisphere - Wind Speed (mph) vs. Latitude Linear Regression"
   ]
  },
  {
   "cell_type": "code",
   "execution_count": 35,
   "metadata": {},
   "outputs": [
    {
     "name": "stdout",
     "output_type": "stream",
     "text": [
      "y = 0.02x + 3.36\n",
      "The r-squared is: 0.015875266654976516\n"
     ]
    },
    {
     "data": {
      "image/png": "[encoded data removed]",
      "text/plain": [
       "<Figure size 432x288 with 1 Axes>"
      ]
     },
     "metadata": {
      "needs_background": "light"
     },
     "output_type": "display_data"
    },
    {
     "data": {
      "text/plain": [
       "<Figure size 432x288 with 0 Axes>"
      ]
     },
     "metadata": {},
     "output_type": "display_data"
    }
   ],
   "source": [
    "#Northern Hemisphere - Wind Speed (%) vs. Latitude Linear Regression\n",
    "\n",
    "x_values = northern_hemisphere['Lat']\n",
    "y_values = northern_hemisphere['Wind Speed']\n",
    "\n",
    "(slope, intercept, rvalue, pvalue, stderr) = linregress(x_values, y_values)\n",
    "regress_values = x_values * slope + intercept\n",
    "line_eq = \"y = \" + str(round(slope,2)) + \"x + \" + str(round(intercept,2))\n",
    "\n",
    "plt.scatter(x_values,y_values)\n",
    "plt.plot(x_values,regress_values,\"r-\")\n",
    "print(line_eq)\n",
    "plt.annotate(line_eq,(0,15),fontsize=16,color=\"red\")\n",
    "plt.title('Northern Hemisphere -Wind Speed (mph) vs. Latitude Linear Regression')\n",
    "plt.xlabel('Latitude')\n",
    "plt.ylabel('Wind Speed (mph)')\n",
    "print(f\"The r-squared is: {rvalue**2}\")\n",
    "plt.show()\n",
    "\n",
    "# Save the figure\n",
    "plt.savefig(\"../Images/Northern Hemisphere - Wind Speed (mph) vs. Latitude Linear Regression.png\")"
   ]
  },
  {
   "cell_type": "markdown",
   "metadata": {},
   "source": [
    "####  Southern Hemisphere - Wind Speed (mph) vs. Latitude Linear Regression"
   ]
  },
  {
   "cell_type": "code",
   "execution_count": 36,
   "metadata": {
    "scrolled": true
   },
   "outputs": [
    {
     "name": "stdout",
     "output_type": "stream",
     "text": [
      "y = -0.06x + 1.54\n",
      "The r-squared is: 0.20263823962145044\n"
     ]
    },
    {
     "data": {
      "image/png": "[encoded data removed]",
      "text/plain": [
       "<Figure size 432x288 with 1 Axes>"
      ]
     },
     "metadata": {
      "needs_background": "light"
     },
     "output_type": "display_data"
    },
    {
     "data": {
      "text/plain": [
       "<Figure size 432x288 with 0 Axes>"
      ]
     },
     "metadata": {},
     "output_type": "display_data"
    }
   ],
   "source": [
    "#Southerne Hemisphere - Wind Speed (%) vs. Latitude Linear Regression\n",
    "\n",
    "x_values = southern_hemisphere['Lat']\n",
    "y_values = southern_hemisphere['Wind Speed']\n",
    "\n",
    "(slope, intercept, rvalue, pvalue, stderr) = linregress(x_values, y_values)\n",
    "regress_values = x_values * slope + intercept\n",
    "line_eq = \"y = \" + str(round(slope,2)) + \"x + \" + str(round(intercept,2))\n",
    "\n",
    "plt.scatter(x_values,y_values)\n",
    "plt.plot(x_values,regress_values,\"r-\")\n",
    "print(line_eq)\n",
    "plt.annotate(line_eq,(-25,10),fontsize=16,color=\"red\")\n",
    "plt.title('Southern Hemisphere -Wind Speed (mph) vs. Latitude Linear Regression')\n",
    "plt.xlabel('Latitude')\n",
    "plt.ylabel('Wind Speed (mph)')\n",
    "print(f\"The r-squared is: {rvalue**2}\")\n",
    "plt.show()\n",
    "\n",
    "# Save the figure\n",
    "plt.savefig(\"../Images/Southern Hemisphere - Wind Speed (mph) vs. Latitude Linear Regression.jpeg\")"
   ]
  },
  {
   "cell_type": "code",
   "execution_count": null,
   "metadata": {},
   "outputs": [],
   "source": []
  }
 ],
 "metadata": {
  "anaconda-cloud": {},
  "kernel_info": {
   "name": "python3"
  },
  "kernelspec": {
   "display_name": "Python 3",
   "language": "python",
   "name": "python3"
  },
  "language_info": {
   "codemirror_mode": {
    "name": "ipython",
    "version": 3
   },
   "file_extension": ".py",
   "mimetype": "text/x-python",
   "name": "python",
   "nbconvert_exporter": "python",
   "pygments_lexer": "ipython3",
   "version": "3.8.5"
  },
  "latex_envs": {
   "LaTeX_envs_menu_present": true,
   "autoclose": false,
   "autocomplete": true,
   "bibliofile": "biblio.bib",
   "cite_by": "apalike",
   "current_citInitial": 1,
   "eqLabelWithNumbers": true,
   "eqNumInitial": 1,
   "hotkeys": {
    "equation": "Ctrl-E",
    "itemize": "Ctrl-I"
   },
   "labels_anchors": false,
   "latex_user_defs": false,
   "report_style_numbering": false,
   "user_envs_cfg": false
  },
  "nteract": {
   "version": "0.12.3"
  }
 },
 "nbformat": 4,
 "nbformat_minor": 2
}
